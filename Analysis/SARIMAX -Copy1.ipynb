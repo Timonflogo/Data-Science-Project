{
 "cells": [
  {
   "cell_type": "code",
   "execution_count": 1,
   "id": "7fecda12",
   "metadata": {},
   "outputs": [],
   "source": [
    "import numpy as np\n",
    "import pandas as pd\n",
    "import matplotlib as mpl\n",
    "import seaborn as sns\n",
    "import matplotlib.pyplot as plt\n",
    "from sklearn.model_selection import train_test_split\n",
    "from sklearn.preprocessing import MinMaxScaler, StandardScaler\n",
    "\n",
    "\n",
    "\n",
    "import matplotlib.pyplot as plt\n",
    "%matplotlib inline"
   ]
  },
  {
   "cell_type": "code",
   "execution_count": 2,
   "id": "40ddf0f1",
   "metadata": {},
   "outputs": [],
   "source": [
    "# load dataset\n",
    "df=pd.read_csv('cross-cafe-final.csv')"
   ]
  },
  {
   "cell_type": "code",
   "execution_count": 3,
   "id": "467848cc",
   "metadata": {},
   "outputs": [
    {
     "data": {
      "text/html": [
       "<div>\n",
       "<style scoped>\n",
       "    .dataframe tbody tr th:only-of-type {\n",
       "        vertical-align: middle;\n",
       "    }\n",
       "\n",
       "    .dataframe tbody tr th {\n",
       "        vertical-align: top;\n",
       "    }\n",
       "\n",
       "    .dataframe thead th {\n",
       "        text-align: right;\n",
       "    }\n",
       "</style>\n",
       "<table border=\"1\" class=\"dataframe\">\n",
       "  <thead>\n",
       "    <tr style=\"text-align: right;\">\n",
       "      <th></th>\n",
       "      <th>Unnamed: 0</th>\n",
       "      <th>Datetime</th>\n",
       "      <th>Aaland</th>\n",
       "      <th>cross_cafe</th>\n",
       "      <th>Ziggy</th>\n",
       "      <th>cloud_cover</th>\n",
       "      <th>humidity</th>\n",
       "      <th>precip_dur_past1h</th>\n",
       "      <th>precip_past1h</th>\n",
       "      <th>pressure</th>\n",
       "      <th>...</th>\n",
       "      <th>temp_mean_past1h</th>\n",
       "      <th>temp_min_past12h</th>\n",
       "      <th>temp_min_past1h</th>\n",
       "      <th>weather</th>\n",
       "      <th>wind_dir</th>\n",
       "      <th>wind_max_per10min_past1h</th>\n",
       "      <th>wind_min_past1h</th>\n",
       "      <th>wind_speed</th>\n",
       "      <th>wind_speed_past1h</th>\n",
       "      <th>sun_last1h_glob</th>\n",
       "    </tr>\n",
       "  </thead>\n",
       "  <tbody>\n",
       "    <tr>\n",
       "      <th>0</th>\n",
       "      <td>1</td>\n",
       "      <td>2018-01-02 00:00:00</td>\n",
       "      <td>0.0</td>\n",
       "      <td>0.0</td>\n",
       "      <td>0.0</td>\n",
       "      <td>NaN</td>\n",
       "      <td>94.0</td>\n",
       "      <td>0.0</td>\n",
       "      <td>0.0</td>\n",
       "      <td>989.0</td>\n",
       "      <td>...</td>\n",
       "      <td>4.0</td>\n",
       "      <td>NaN</td>\n",
       "      <td>3.7</td>\n",
       "      <td>NaN</td>\n",
       "      <td>236.0</td>\n",
       "      <td>4.3</td>\n",
       "      <td>NaN</td>\n",
       "      <td>3.9</td>\n",
       "      <td>4.0</td>\n",
       "      <td>0.0</td>\n",
       "    </tr>\n",
       "    <tr>\n",
       "      <th>1</th>\n",
       "      <td>2</td>\n",
       "      <td>2018-01-02 01:00:00</td>\n",
       "      <td>0.0</td>\n",
       "      <td>0.0</td>\n",
       "      <td>0.0</td>\n",
       "      <td>NaN</td>\n",
       "      <td>94.0</td>\n",
       "      <td>0.0</td>\n",
       "      <td>0.0</td>\n",
       "      <td>989.8</td>\n",
       "      <td>...</td>\n",
       "      <td>4.1</td>\n",
       "      <td>NaN</td>\n",
       "      <td>3.8</td>\n",
       "      <td>NaN</td>\n",
       "      <td>243.0</td>\n",
       "      <td>4.5</td>\n",
       "      <td>NaN</td>\n",
       "      <td>3.5</td>\n",
       "      <td>4.0</td>\n",
       "      <td>0.0</td>\n",
       "    </tr>\n",
       "    <tr>\n",
       "      <th>2</th>\n",
       "      <td>3</td>\n",
       "      <td>2018-01-02 02:00:00</td>\n",
       "      <td>0.0</td>\n",
       "      <td>0.0</td>\n",
       "      <td>0.0</td>\n",
       "      <td>NaN</td>\n",
       "      <td>95.0</td>\n",
       "      <td>0.0</td>\n",
       "      <td>0.0</td>\n",
       "      <td>990.1</td>\n",
       "      <td>...</td>\n",
       "      <td>3.9</td>\n",
       "      <td>NaN</td>\n",
       "      <td>3.5</td>\n",
       "      <td>100.0</td>\n",
       "      <td>237.0</td>\n",
       "      <td>4.0</td>\n",
       "      <td>NaN</td>\n",
       "      <td>3.9</td>\n",
       "      <td>3.7</td>\n",
       "      <td>0.0</td>\n",
       "    </tr>\n",
       "    <tr>\n",
       "      <th>3</th>\n",
       "      <td>4</td>\n",
       "      <td>2018-01-02 03:00:00</td>\n",
       "      <td>0.0</td>\n",
       "      <td>0.0</td>\n",
       "      <td>0.0</td>\n",
       "      <td>NaN</td>\n",
       "      <td>96.0</td>\n",
       "      <td>0.0</td>\n",
       "      <td>0.0</td>\n",
       "      <td>990.7</td>\n",
       "      <td>...</td>\n",
       "      <td>3.6</td>\n",
       "      <td>NaN</td>\n",
       "      <td>3.4</td>\n",
       "      <td>NaN</td>\n",
       "      <td>229.0</td>\n",
       "      <td>4.2</td>\n",
       "      <td>NaN</td>\n",
       "      <td>4.1</td>\n",
       "      <td>3.7</td>\n",
       "      <td>0.0</td>\n",
       "    </tr>\n",
       "    <tr>\n",
       "      <th>4</th>\n",
       "      <td>5</td>\n",
       "      <td>2018-01-02 04:00:00</td>\n",
       "      <td>0.0</td>\n",
       "      <td>0.0</td>\n",
       "      <td>0.0</td>\n",
       "      <td>NaN</td>\n",
       "      <td>97.0</td>\n",
       "      <td>0.0</td>\n",
       "      <td>0.0</td>\n",
       "      <td>991.4</td>\n",
       "      <td>...</td>\n",
       "      <td>3.5</td>\n",
       "      <td>NaN</td>\n",
       "      <td>3.0</td>\n",
       "      <td>NaN</td>\n",
       "      <td>239.0</td>\n",
       "      <td>4.3</td>\n",
       "      <td>NaN</td>\n",
       "      <td>3.0</td>\n",
       "      <td>3.6</td>\n",
       "      <td>0.0</td>\n",
       "    </tr>\n",
       "  </tbody>\n",
       "</table>\n",
       "<p>5 rows × 24 columns</p>\n",
       "</div>"
      ],
      "text/plain": [
       "   Unnamed: 0             Datetime  Aaland  cross_cafe  Ziggy  cloud_cover  \\\n",
       "0           1  2018-01-02 00:00:00     0.0         0.0    0.0          NaN   \n",
       "1           2  2018-01-02 01:00:00     0.0         0.0    0.0          NaN   \n",
       "2           3  2018-01-02 02:00:00     0.0         0.0    0.0          NaN   \n",
       "3           4  2018-01-02 03:00:00     0.0         0.0    0.0          NaN   \n",
       "4           5  2018-01-02 04:00:00     0.0         0.0    0.0          NaN   \n",
       "\n",
       "   humidity  precip_dur_past1h  precip_past1h  pressure  ...  \\\n",
       "0      94.0                0.0            0.0     989.0  ...   \n",
       "1      94.0                0.0            0.0     989.8  ...   \n",
       "2      95.0                0.0            0.0     990.1  ...   \n",
       "3      96.0                0.0            0.0     990.7  ...   \n",
       "4      97.0                0.0            0.0     991.4  ...   \n",
       "\n",
       "   temp_mean_past1h  temp_min_past12h  temp_min_past1h  weather  wind_dir  \\\n",
       "0               4.0               NaN              3.7      NaN     236.0   \n",
       "1               4.1               NaN              3.8      NaN     243.0   \n",
       "2               3.9               NaN              3.5    100.0     237.0   \n",
       "3               3.6               NaN              3.4      NaN     229.0   \n",
       "4               3.5               NaN              3.0      NaN     239.0   \n",
       "\n",
       "   wind_max_per10min_past1h  wind_min_past1h  wind_speed  wind_speed_past1h  \\\n",
       "0                       4.3              NaN         3.9                4.0   \n",
       "1                       4.5              NaN         3.5                4.0   \n",
       "2                       4.0              NaN         3.9                3.7   \n",
       "3                       4.2              NaN         4.1                3.7   \n",
       "4                       4.3              NaN         3.0                3.6   \n",
       "\n",
       "   sun_last1h_glob  \n",
       "0              0.0  \n",
       "1              0.0  \n",
       "2              0.0  \n",
       "3              0.0  \n",
       "4              0.0  \n",
       "\n",
       "[5 rows x 24 columns]"
      ]
     },
     "execution_count": 3,
     "metadata": {},
     "output_type": "execute_result"
    }
   ],
   "source": [
    "df.head()"
   ]
  },
  {
   "cell_type": "code",
   "execution_count": 4,
   "id": "8fe306d6",
   "metadata": {},
   "outputs": [
    {
     "name": "stdout",
     "output_type": "stream",
     "text": [
      "<class 'pandas.core.frame.DataFrame'>\n",
      "RangeIndex: 29209 entries, 0 to 29208\n",
      "Data columns (total 24 columns):\n",
      " #   Column                    Non-Null Count  Dtype         \n",
      "---  ------                    --------------  -----         \n",
      " 0   Unnamed: 0                29209 non-null  int64         \n",
      " 1   Datetime                  29209 non-null  datetime64[ns]\n",
      " 2   Aaland                    29209 non-null  float64       \n",
      " 3   cross_cafe                29209 non-null  float64       \n",
      " 4   Ziggy                     29209 non-null  float64       \n",
      " 5   cloud_cover               28698 non-null  float64       \n",
      " 6   humidity                  29024 non-null  float64       \n",
      " 7   precip_dur_past1h         28792 non-null  float64       \n",
      " 8   precip_past1h             28792 non-null  float64       \n",
      " 9   pressure                  29182 non-null  float64       \n",
      " 10  temp_dew                  29182 non-null  float64       \n",
      " 11  temp_dry                  29182 non-null  float64       \n",
      " 12  temp_max_past12h          2422 non-null   float64       \n",
      " 13  temp_max_past1h           29011 non-null  float64       \n",
      " 14  temp_mean_past1h          29013 non-null  float64       \n",
      " 15  temp_min_past12h          2422 non-null   float64       \n",
      " 16  temp_min_past1h           29011 non-null  float64       \n",
      " 17  weather                   12170 non-null  float64       \n",
      " 18  wind_dir                  29066 non-null  float64       \n",
      " 19  wind_max_per10min_past1h  28934 non-null  float64       \n",
      " 20  wind_min_past1h           2494 non-null   float64       \n",
      " 21  wind_speed                29066 non-null  float64       \n",
      " 22  wind_speed_past1h         28934 non-null  float64       \n",
      " 23  sun_last1h_glob           29066 non-null  float64       \n",
      "dtypes: datetime64[ns](1), float64(22), int64(1)\n",
      "memory usage: 5.3 MB\n"
     ]
    }
   ],
   "source": [
    "# change Datetime to datetype datetime\n",
    "df['Datetime'] = pd.to_datetime(df['Datetime'], infer_datetime_format=True)\n",
    "df.info()"
   ]
  },
  {
   "cell_type": "code",
   "execution_count": 5,
   "id": "5a4c84c2",
   "metadata": {},
   "outputs": [
    {
     "data": {
      "text/plain": [
       "count    29209.000000\n",
       "mean      1909.602739\n",
       "std       2752.873080\n",
       "min       -353.600000\n",
       "25%          0.000000\n",
       "50%        292.000000\n",
       "75%       3144.400000\n",
       "max      20115.200000\n",
       "Name: cross_cafe, dtype: float64"
      ]
     },
     "execution_count": 5,
     "metadata": {},
     "output_type": "execute_result"
    },
    {
     "data": {
      "image/png": "[encoded data removed]",
      "text/plain": [
       "<Figure size 432x288 with 1 Axes>"
      ]
     },
     "metadata": {
      "needs_background": "light"
     },
     "output_type": "display_data"
    }
   ],
   "source": [
    "#set Datetime as index and plot only cross_cafe \n",
    "\n",
    "df.set_index('Datetime')['cross_cafe'].plot(subplots=False)\n",
    "df['cross_cafe'].describe()"
   ]
  },
  {
   "cell_type": "code",
   "execution_count": 6,
   "id": "7f68dc95",
   "metadata": {},
   "outputs": [
    {
     "data": {
      "text/plain": [
       "<AxesSubplot:xlabel='Datetime'>"
      ]
     },
     "execution_count": 6,
     "metadata": {},
     "output_type": "execute_result"
    },
    {
     "data": {
      "image/png": "[encoded data removed]",
      "text/plain": [
       "<Figure size 432x288 with 1 Axes>"
      ]
     },
     "metadata": {
      "needs_background": "light"
     },
     "output_type": "display_data"
    }
   ],
   "source": [
    "# cut of corona period and get dataframe for 2 years from 2018 to 2020\n",
    "# this is the data we are going to use to test whether SARIMAX can yield good forecasts \n",
    "df = df[df['Datetime'] < '2020-1-2 00:00:00']\n",
    "df.set_index('Datetime')['cross_cafe'].plot(subplots=False)"
   ]
  },
  {
   "cell_type": "code",
   "execution_count": 7,
   "id": "4965baaf",
   "metadata": {},
   "outputs": [],
   "source": [
    "from statsmodels.tsa.stattools import adfuller"
   ]
  },
  {
   "cell_type": "code",
   "execution_count": 8,
   "id": "e2a0ee5a",
   "metadata": {},
   "outputs": [],
   "source": [
    "test_result=adfuller(df['cross_cafe'])"
   ]
  },
  {
   "cell_type": "code",
   "execution_count": 9,
   "id": "bda7da4c",
   "metadata": {},
   "outputs": [],
   "source": [
    "#Ho: It is non stationary\n",
    "#H1: It is stationary\n",
    "\n",
    "def adfuller_test(cross_cafe):\n",
    "    result=adfuller(cross_cafe)\n",
    "    labels = ['ADF Test Statistic','p-value','#Lags Used','Number of Observations Used']\n",
    "    for value,label in zip(result,labels):\n",
    "        print(label+' : '+str(value) )\n",
    "    if result[1] <= 0.05:\n",
    "        print(\"strong evidence against the null hypothesis(Ho), reject the null hypothesis. Data has no unit root and is stationary\")\n",
    "    else:\n",
    "        print(\"weak evidence against null hypothesis, time series has a unit root, indicating it is non-stationary \")"
   ]
  },
  {
   "cell_type": "code",
   "execution_count": 10,
   "id": "a593861b",
   "metadata": {},
   "outputs": [
    {
     "name": "stdout",
     "output_type": "stream",
     "text": [
      "ADF Test Statistic : -17.612993537387396\n",
      "p-value : 3.871434190753603e-30\n",
      "#Lags Used : 43\n",
      "Number of Observations Used : 17476\n",
      "strong evidence against the null hypothesis(Ho), reject the null hypothesis. Data has no unit root and is stationary\n"
     ]
    }
   ],
   "source": [
    "adfuller_test(df['cross_cafe'])"
   ]
  },
  {
   "cell_type": "code",
   "execution_count": 11,
   "id": "7fe132d4",
   "metadata": {},
   "outputs": [
    {
     "data": {
      "image/png": "[encoded data removed]",
      "text/plain": [
       "<Figure size 432x288 with 1 Axes>"
      ]
     },
     "metadata": {
      "needs_background": "light"
     },
     "output_type": "display_data"
    }
   ],
   "source": [
    "from pandas.plotting import autocorrelation_plot\n",
    "autocorrelation_plot(df['cross_cafe'])\n",
    "plt.show()"
   ]
  },
  {
   "cell_type": "code",
   "execution_count": 12,
   "id": "45e5d367",
   "metadata": {},
   "outputs": [],
   "source": [
    "\n",
    "#Final Thoughts on Autocorrelation and Partial Autocorrelation\n",
    "#Identification of an AR model is often best done with the PACF.\n",
    "#For an AR model, the theoretical PACF “shuts off” past the order of the model. \n",
    "#The phrase “shuts off” means that in theory the partial autocorrelations are equal to 0 beyond that point. \n",
    "#Put another way, the number of non-zero partial autocorrelations gives the order of the AR model. \n",
    "#By the “order of the model” we mean the most extreme lag of x that is used as a predictor.\n",
    "#Identification of an MA model is often best done with the ACF rather than the PACF.\n",
    "\n",
    "#For an MA model, the theoretical PACF does not shut off, but instead tapers toward 0 in some manner. \n",
    "#A clearer pattern for an MA model is in the ACF. The ACF will have non-zero autocorrelations only at lags involved in the model.\n",
    "\n",
    "#p,d,q p AR model lags d differencing q MA lags"
   ]
  },
  {
   "cell_type": "code",
   "execution_count": 19,
   "id": "50afa6f2",
   "metadata": {},
   "outputs": [],
   "source": [
    "from statsmodels.graphics.tsaplots import plot_acf,plot_pacf\n",
    "import pandas as pd\n",
    "import matplotlib.pyplot as plt\n",
    "import statsmodels.api as sm"
   ]
  },
  {
   "cell_type": "code",
   "execution_count": 30,
   "id": "0cb4318c",
   "metadata": {},
   "outputs": [
    {
     "data": {
      "image/png": "[encoded data removed]",
      "text/plain": [
       "<Figure size 864x576 with 2 Axes>"
      ]
     },
     "metadata": {
      "needs_background": "light"
     },
     "output_type": "display_data"
    }
   ],
   "source": [
    "\n",
    "fig = plt.figure(figsize=(12,8))\n",
    "ax1 = fig.add_subplot(211)\n",
    "fig = sm.graphics.tsa.plot_acf(df['cross_cafe'],lags=48,ax=ax1)\n",
    "ax2 = fig.add_subplot(212)\n",
    "fig = sm.graphics.tsa.plot_pacf(df['cross_cafe'],lags=48,ax=ax2)"
   ]
  },
  {
   "cell_type": "code",
   "execution_count": 31,
   "id": "dd104e88",
   "metadata": {},
   "outputs": [],
   "source": [
    "#p,d,q p AR model lags d differencing q MA lags\n",
    "\n",
    "#p=2, d=0, q=6 or 1"
   ]
  },
  {
   "cell_type": "code",
   "execution_count": null,
   "id": "881f1f91",
   "metadata": {},
   "outputs": [],
   "source": [
    "import statsmodels.api as sm\n"
   ]
  },
  {
   "cell_type": "code",
   "execution_count": null,
   "id": "6e4f857a",
   "metadata": {},
   "outputs": [],
   "source": [
    "model=sm.tsa.statespace.SARIMAX(df['cross_cafe'],order=(2, 1, 6),seasonal_order=(2,0,6,12))\n",
    "results=model.fit()"
   ]
  },
  {
   "cell_type": "code",
   "execution_count": null,
   "id": "ca2419a2",
   "metadata": {},
   "outputs": [],
   "source": [
    "df['forecast']=results.predict(start=90,end=103,dynamic=True)\n",
    "df[['cross_cafe','forecast']].plot(figsize=(12,8))"
   ]
  },
  {
   "cell_type": "code",
   "execution_count": null,
   "id": "589703b8",
   "metadata": {},
   "outputs": [],
   "source": []
  }
 ],
 "metadata": {
  "kernelspec": {
   "display_name": "Python 3",
   "language": "python",
   "name": "python3"
  },
  "language_info": {
   "codemirror_mode": {
    "name": "ipython",
    "version": 3
   },
   "file_extension": ".py",
   "mimetype": "text/x-python",
   "name": "python",
   "nbconvert_exporter": "python",
   "pygments_lexer": "ipython3",
   "version": "3.8.8"
  }
 },
 "nbformat": 4,
 "nbformat_minor": 5
}
